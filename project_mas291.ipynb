{
 "cells": [
  {
   "cell_type": "markdown",
   "id": "4c692895",
   "metadata": {},
   "source": [
    "\n",
    "# Đề Tài: Nghiên cứu sự ảnh hưởng của thời gian ngủ đến nhịp tim ở người trưởng thành\n",
    "\n",
    "## Mô tả tập dữ liệu\n",
    "\n",
    "1. **id**: số thứ tự cho mỗi cá nhân được khảo sát (1-15000)\n",
    "\n",
    "2. **gender**: giới tính (Male-Female)\n",
    "\n",
    "3. **age**: độ tuổi (27-59)\n",
    "\n",
    "4. **occupation**: nghề nghiệp (11 ngành nghề)\n",
    "\n",
    "5. **sleep-duration**: thời gian ngủ (5.8 - 8.5), đơn vị: giờ/đêm\n",
    "\n",
    "6. **heart-rate**: nhịp tim (65 - 86), đơn vị: nhịp/phút\n",
    "\n",
    "7. **blood-pressure**: huyết áp, đơn vị: mm/Hg\n",
    "\n",
    "8. **bmi**: chỉ số BMI (Normal Weight, Normal, Overweight, Obese)\n",
    "\n",
    "*Source*: https://www.kaggle.com/"
   ]
  },
  {
   "cell_type": "code",
   "execution_count": 2,
   "id": "21ba2f4b",
   "metadata": {},
   "outputs": [],
   "source": [
    "# Import các thư viện sử dụng trong quá trình tính toán\n",
    "import numpy as np\n",
    "from scipy import stats\n",
    "import matplotlib.pyplot as plt\n",
    "import pandas as pd\n",
    "import seaborn as sns\n",
    "import statsmodels.api as sm\n",
    "import scipy.stats.distributions as dist"
   ]
  },
  {
   "cell_type": "code",
   "execution_count": 3,
   "id": "61a8521b",
   "metadata": {},
   "outputs": [
    {
     "data": {
      "text/html": [
       "<div>\n",
       "<style scoped>\n",
       "    .dataframe tbody tr th:only-of-type {\n",
       "        vertical-align: middle;\n",
       "    }\n",
       "\n",
       "    .dataframe tbody tr th {\n",
       "        vertical-align: top;\n",
       "    }\n",
       "\n",
       "    .dataframe thead th {\n",
       "        text-align: right;\n",
       "    }\n",
       "</style>\n",
       "<table border=\"1\" class=\"dataframe\">\n",
       "  <thead>\n",
       "    <tr style=\"text-align: right;\">\n",
       "      <th></th>\n",
       "      <th>id</th>\n",
       "      <th>gender</th>\n",
       "      <th>age</th>\n",
       "      <th>occupation</th>\n",
       "      <th>sleep-duration</th>\n",
       "      <th>heart-rate</th>\n",
       "      <th>blood-pressure</th>\n",
       "      <th>bmi</th>\n",
       "    </tr>\n",
       "  </thead>\n",
       "  <tbody>\n",
       "    <tr>\n",
       "      <th>0</th>\n",
       "      <td>1</td>\n",
       "      <td>Male</td>\n",
       "      <td>35</td>\n",
       "      <td>Doctor</td>\n",
       "      <td>6.65</td>\n",
       "      <td>71</td>\n",
       "      <td>120/80</td>\n",
       "      <td>Normal Weight</td>\n",
       "    </tr>\n",
       "    <tr>\n",
       "      <th>1</th>\n",
       "      <td>2</td>\n",
       "      <td>Male</td>\n",
       "      <td>42</td>\n",
       "      <td>Teacher</td>\n",
       "      <td>6.90</td>\n",
       "      <td>66</td>\n",
       "      <td>135/90</td>\n",
       "      <td>Normal</td>\n",
       "    </tr>\n",
       "    <tr>\n",
       "      <th>2</th>\n",
       "      <td>3</td>\n",
       "      <td>Male</td>\n",
       "      <td>34</td>\n",
       "      <td>Software Engineer</td>\n",
       "      <td>6.95</td>\n",
       "      <td>74</td>\n",
       "      <td>126/83</td>\n",
       "      <td>Overweight</td>\n",
       "    </tr>\n",
       "    <tr>\n",
       "      <th>3</th>\n",
       "      <td>4</td>\n",
       "      <td>Male</td>\n",
       "      <td>32</td>\n",
       "      <td>Doctor</td>\n",
       "      <td>6.90</td>\n",
       "      <td>71</td>\n",
       "      <td>120/80</td>\n",
       "      <td>Normal</td>\n",
       "    </tr>\n",
       "    <tr>\n",
       "      <th>4</th>\n",
       "      <td>5</td>\n",
       "      <td>Male</td>\n",
       "      <td>37</td>\n",
       "      <td>Lawyer</td>\n",
       "      <td>6.85</td>\n",
       "      <td>71</td>\n",
       "      <td>125/80</td>\n",
       "      <td>Normal</td>\n",
       "    </tr>\n",
       "  </tbody>\n",
       "</table>\n",
       "</div>"
      ],
      "text/plain": [
       "   id gender  age         occupation  sleep-duration  heart-rate  \\\n",
       "0   1   Male   35             Doctor            6.65          71   \n",
       "1   2   Male   42            Teacher            6.90          66   \n",
       "2   3   Male   34  Software Engineer            6.95          74   \n",
       "3   4   Male   32             Doctor            6.90          71   \n",
       "4   5   Male   37             Lawyer            6.85          71   \n",
       "\n",
       "  blood-pressure            bmi  \n",
       "0         120/80  Normal Weight  \n",
       "1         135/90         Normal  \n",
       "2         126/83     Overweight  \n",
       "3         120/80         Normal  \n",
       "4         125/80         Normal  "
      ]
     },
     "execution_count": 3,
     "metadata": {},
     "output_type": "execute_result"
    }
   ],
   "source": [
    "# Dùng panda import data bằng cách đọc file csv\n",
    "df = pd.read_csv(\"data.csv\")\n",
    "\n",
    "# Chỉ lấy cột sleep-duration\n",
    "sleep = df[\"sleep-duration\"]\n",
    "\n",
    "# Chỉ lấy cột heart-rate\n",
    "rate = df[\"heart-rate\"]\n",
    "\n",
    "df.head()"
   ]
  },
  {
   "cell_type": "code",
   "execution_count": 43,
   "id": "73e09024",
   "metadata": {},
   "outputs": [
    {
     "data": {
      "text/plain": [
       "id                0\n",
       "gender            0\n",
       "age               0\n",
       "occupation        0\n",
       "sleep-duration    0\n",
       "heart-rate        0\n",
       "blood-pressure    0\n",
       "bmi               0\n",
       "dtype: int64"
      ]
     },
     "execution_count": 43,
     "metadata": {},
     "output_type": "execute_result"
    }
   ],
   "source": [
    "# Kiểm tra trong bảng dữ liệu có giá trị null không\n",
    "df.isnull().sum()"
   ]
  },
  {
   "cell_type": "markdown",
   "id": "ff3b5c98",
   "metadata": {},
   "source": [
    "#### Nhận xét: không có giá trị null nào trong tập dữ liệu"
   ]
  },
  {
   "cell_type": "markdown",
   "id": "27f3e164",
   "metadata": {},
   "source": [
    "# Phần 1: Tính toán các thông số cơ bản"
   ]
  },
  {
   "cell_type": "code",
   "execution_count": 9,
   "id": "b0c15ec0",
   "metadata": {},
   "outputs": [
    {
     "name": "stdout",
     "output_type": "stream",
     "text": [
      "** Sleep Duration ** \n",
      "Mean =  6.997\n",
      "Median =  7.0\n",
      "Range =  2.7\n",
      "Mode =  6.5\n",
      "Variance =  0.378\n",
      "Standard variance =  0.615\n",
      "\n",
      "** Heart Rate ** \n",
      "Mean =  70.858\n",
      "Median =  70.0\n",
      "Range =  21\n",
      "Mode =  68\n",
      "Variance =  13.067\n",
      "Standard variance =  3.615\n"
     ]
    }
   ],
   "source": [
    "# Tính toán các thống kê cơ bản\n",
    "mean_sleep = df[\"sleep-duration\"].mean()\n",
    "median_sleep = df[\"sleep-duration\"].median()\n",
    "var_sleep = df[\"sleep-duration\"].var()\n",
    "std_sleep = df[\"sleep-duration\"].std()\n",
    "mode_sleep = df[\"sleep-duration\"].mode()[0]\n",
    "range_sleep = df[\"sleep-duration\"].max() - df[\"sleep-duration\"].min()\n",
    "\n",
    "mean_rate = df[\"heart-rate\"].mean()\n",
    "median_rate = df[\"heart-rate\"].median()\n",
    "var_rate = df[\"heart-rate\"].var()\n",
    "std_rate = df[\"heart-rate\"].std()\n",
    "mode_rate = df[\"heart-rate\"].mode()[0]\n",
    "range_rate = df[\"heart-rate\"].max() - df[\"heart-rate\"].min()\n",
    "\n",
    "# In các thông số ra màn hình \n",
    "print(\"** Sleep Duration ** \")\n",
    "print(\"Mean = \", mean_sleep.round(3))\n",
    "print(\"Median = \", median_sleep)\n",
    "print(\"Range = \", range_sleep)\n",
    "print(\"Mode = \", mode_sleep)\n",
    "print(\"Variance = \", round(var_sleep, 3))\n",
    "print(\"Standard variance = \", round(std_sleep, 3))\n",
    "\n",
    "print(\"\\n** Heart Rate ** \")\n",
    "print(\"Mean = \", mean_rate.round(3))\n",
    "print(\"Median = \", median_rate)\n",
    "print(\"Range = \", range_rate)\n",
    "print(\"Mode = \", mode_rate)\n",
    "print(\"Variance = \", round(var_rate, 3))\n",
    "print(\"Standard variance = \", round(std_rate, 3))"
   ]
  },
  {
   "cell_type": "markdown",
   "id": "01dfafa9",
   "metadata": {},
   "source": [
    "### Nhận xét\n",
    "- **Mean:** cung cấp một cái nhìn tổng quát về thời gian ngủ của nhóm được khảo sát\n",
    "- **Median:** Trung vị không bị ảnh hưởng bởi các giá trị cực đoan và do đó, nó cung cấp một cái nhìn chính xác hơn về một thuộc tính điển hình của nhóm\n",
    "- **Range:** chỉ ra sự khác biệt giữa giá trị dài nhất và ngắn nhất.\n",
    "- **Mode:** giá trị phổ biến nhất hoặc xu hướng xuất hiện nhiều nhất trong tập dữ liệu\n",
    "- **Variance:** đo lường mức độ phân tán của các giá trị xung quanh giá trị trung bình\n",
    "- **Standard variance:** cho thấy mức độ biến động của dữ liệu \n",
    "#### Sleep Duration\n",
    "- **Mean = 6.997**: Trung bình, một người trong mẫu dữ liệu ngủ khoảng 6.997 giờ/đêm\n",
    "- **Median = 7.0**: Nửa số người trong mẫu dữ liệu ngủ ít hơn 7.0 giờ/đêm và nửa số người còn lại ngủ nhiều hơn 7.0 giờ. \n",
    "- **Range = 2.7**: Khoảng cách giữa thời gian ngủ dài nhất và ngắn nhất trong mẫu là 2.7 giờ\n",
    "- **Mode = 6.5**: phần lớn người trưởng thành trong nghiên cứu có xu hướng ngủ khoảng 6.5 giờ\n",
    "- **Variance = 0.378**: thời gian ngủ của người trưởng thành trong tập dữ liệu tương đối ổn định và không có sự biến động lớn\n",
    "- **Standard variance = 0.615**: Độ lệch chuẩn là 0.615 giờ, cho thấy rằng hầu hết các giá trị thời gian ngủ lệch không quá xa so với giá trị trung bình (6.997 giờ)\n",
    "#### Heart Rate\n",
    "- **Mean = 70.858**: Trung bình, nhịp tim của người trong mẫu dữ liệu là khoảng 70.858 nhịp/phút\n",
    "- **Median = 70.0**:  Nửa số người trong mẫu dữ liệu có nhịp tim ít hơn 70.0 nhịp/phút và nửa số người còn lại có nhịp tim cao hơn 70.0 nhịp/phút \n",
    "- **Range = 21**: Khoảng cách giữa nhịp tim cao nhất và thấp nhất trong mẫu là 21 nhịp/phút\n",
    "- **Mode = 68**: phần lớn người trưởng thành trong nghiên cứu có nhịp tim 68 nhịp/phút\n",
    "- **Variance = 13.067**: nhịp tim của người trưởng thành trong tập dữ liệu này có sự dao động đáng kể. Có nghĩa là không phải ai cũng có nhịp tim gần với giá trị trung bình, mà có nhiều người có nhịp tim cao hơn hoặc thấp hơn nhiều so với giá trị trung bình\n",
    "- **Standard variance = 3.615**: Độ lệch chuẩn là 3.615 nhịp mỗi phút, cho thấy rằng hầu hết các giá trị nhịp tim lệch không quá xa so với giá trị trung bình (70.858 nhịp/phút)\n"
   ]
  },
  {
   "cell_type": "code",
   "execution_count": 42,
   "id": "cecafac0",
   "metadata": {},
   "outputs": [
    {
     "data": {
      "image/png": "[encoded data removed]",
      "text/plain": [
       "<Figure size 1000x500 with 2 Axes>"
      ]
     },
     "metadata": {},
     "output_type": "display_data"
    }
   ],
   "source": [
    "# Tùy chỉnh độ width height của biểu đồ\n",
    "plt.figure(figsize=(10,5))\n",
    "\n",
    "# Biểu đồ histograms của sleep-duration\n",
    "plt.subplot(1,2,1)\n",
    "plt.hist(x=sleep, bins=15, edgecolor='black')\n",
    "plt.title(\"Sleep Duration\")\n",
    "\n",
    "# Biểu đồ histograms của heart-rate\n",
    "plt.subplot(1,2,2)\n",
    "plt.hist(x=rate, bins=15, edgecolor='black')\n",
    "plt.title(\"Heart Rate\")\n",
    "\n",
    "plt.show()"
   ]
  },
  {
   "cell_type": "code",
   "execution_count": 39,
   "id": "59cfd73f",
   "metadata": {},
   "outputs": [
    {
     "data": {
      "image/png": "[encoded data removed]",
      "text/plain": [
       "<Figure size 1000x600 with 1 Axes>"
      ]
     },
     "metadata": {},
     "output_type": "display_data"
    }
   ],
   "source": [
    "# Vẽ biểu đồ scatter plot\n",
    "plt.figure(figsize=(10, 6))\n",
    "plt.scatter(x=sleep, y=rate, color='blue')\n",
    "\n",
    "# Thêm tiêu đề và nhãn\n",
    "plt.title('Scatter Plot of Sleep Duration vs. Heart Rate')\n",
    "plt.xlabel('Sleep Duration (hours)')\n",
    "plt.ylabel('Heart Rate (beats per minute)')\n",
    "plt.grid(True)\n",
    "\n",
    "# Hiển thị biểu đồ\n",
    "plt.show()"
   ]
  },
  {
   "cell_type": "code",
   "execution_count": 67,
   "id": "f9ebc152",
   "metadata": {},
   "outputs": [
    {
     "name": "stdout",
     "output_type": "stream",
     "text": [
      "** Sleep Duration **\n",
      "Q1 =  6.5\n",
      "Q2 =  7.0\n",
      "Q3 =  7.45\n",
      "IQR =  0.95\n",
      "Outliers =  0\n"
     ]
    }
   ],
   "source": [
    "# Tính toán các giá trị Tứ phân vị của Sleep Duration\n",
    "q1_sleep = sleep.quantile(0.25)\n",
    "q2_sleep = sleep.quantile(0.5)\n",
    "q3_sleep = sleep.quantile(0.75)\n",
    "iqr_sleep = q3_sleep - q1_sleep\n",
    "\n",
    "# Tính các ngưỡng cho giá trị ngoại lai\n",
    "lower_bound = q1_sleep - 1.5 * iqr_sleep\n",
    "upper_bound = q3_sleep + 1.5 * iqr_sleep\n",
    "\n",
    "# Xác định các giá trị ngoại lai\n",
    "outliers = sleep[(sleep < lower_bound) | (sleep > upper_bound)]\n",
    "\n",
    "print(\"** Sleep Duration **\")\n",
    "print(\"Q1 = \", q1_sleep)\n",
    "print(\"Q2 = \", q2_sleep)\n",
    "print(\"Q3 = \", q3_sleep)\n",
    "print(\"IQR = \", round(iqr_sleep, 2))\n",
    "print(\"Outliers = \", outliers.count())\n"
   ]
  },
  {
   "cell_type": "code",
   "execution_count": 48,
   "id": "c36a3909",
   "metadata": {},
   "outputs": [
    {
     "data": {
      "image/png": "[encoded data removed]",
      "text/plain": [
       "<Figure size 640x480 with 1 Axes>"
      ]
     },
     "metadata": {},
     "output_type": "display_data"
    }
   ],
   "source": [
    "# Vẽ biểu đồ boxplot của sleep-duration\n",
    "plt.boxplot(sleep, vert=False)\n",
    "plt.title('Boxplot of Sleep Duration')\n",
    "plt.xlabel('Sleep Duration')\n",
    "plt.yticks([1], ['Sleep Duration'])\n",
    "\n",
    "# Đánh dấu các phần tư\n",
    "plt.axvline(x=6.5, color='r', linestyle='--', label='Q1 (6.5h)')\n",
    "plt.axvline(x=7.0, color='g', linestyle='--', label='Q2 (7.0h)')\n",
    "plt.axvline(x=7.45, color='b', linestyle='--', label='Q3 (7.45h)')\n",
    "\n",
    "plt.legend()\n",
    "plt.show()"
   ]
  },
  {
   "cell_type": "markdown",
   "id": "d04054c8",
   "metadata": {},
   "source": [
    "### Nhận xét:\n",
    "- **Q1 = 6.5:**  25% số người trong mẫu dữ liệu có thời gian ngủ ít hơn hoặc bằng 6.5 giờ mỗi đêm\n",
    "- **Q2 = 7.0:** 50% số người trong mẫu dữ liệu có thời gian ngủ ít hơn hoặc bằng 7.0 giờ mỗi đêm. Q2 chính là giá trị trung vị\n",
    "- **Q3 = 7.45:** 75% số người trong mẫu dữ liệu có thời gian ngủ ít hơn hoặc bằng 7.45 giờ mỗi đêm.\n",
    "- **IQR = 0.95:** sự phân tán giá trị thời gian ngủ của 50% người ở giữa trong mẫu dữ liệu. IQR nhỏ (0.95) cho thấy thời gian ngủ của phần lớn người trong mẫu không phân tán nhiều.\n",
    "- **Outliers**: Không có"
   ]
  },
  {
   "cell_type": "code",
   "execution_count": 71,
   "id": "350f2c63",
   "metadata": {},
   "outputs": [
    {
     "name": "stdout",
     "output_type": "stream",
     "text": [
      "\n",
      "** Heart Rate **\n",
      "Q1 =  68.0\n",
      "Q2 =  70.0\n",
      "Q3 =  72.0\n",
      "IQR =  4.0\n",
      "Outliers =  479\n",
      "Outliers: > 78.0\n"
     ]
    }
   ],
   "source": [
    "# Tính toán các giá trị Tứ phân vị của Heart Rate\n",
    "q1_rate = rate.quantile(0.25)\n",
    "q2_rate = rate.quantile(0.5)\n",
    "q3_rate = rate.quantile(0.75)\n",
    "iqr_rate = q3_rate - q1_rate\n",
    "\n",
    "# Tính các ngưỡng cho giá trị ngoại lai\n",
    "lower_bound = q1_rate - 1.5 * iqr_rate\n",
    "upper_bound = q3_rate + 1.5 * iqr_rate\n",
    "\n",
    "# Xác định các giá trị ngoại lai\n",
    "outliers = rate[(rate < lower_bound) | (rate > upper_bound)]\n",
    "print(\"\\n** Heart Rate **\")\n",
    "print(\"Q1 = \", q1_rate)\n",
    "print(\"Q2 = \", q2_rate)\n",
    "print(\"Q3 = \", q3_rate)\n",
    "print(\"IQR = \", iqr_rate)\n",
    "print(\"Outliers = \", outliers.count())\n"
   ]
  },
  {
   "cell_type": "code",
   "execution_count": 72,
   "id": "01c57529",
   "metadata": {},
   "outputs": [
    {
     "data": {
      "image/png": "[encoded data removed]",
      "text/plain": [
       "<Figure size 640x480 with 1 Axes>"
      ]
     },
     "metadata": {},
     "output_type": "display_data"
    }
   ],
   "source": [
    "# Vẽ biểu đồ boxplot của heart-rate\n",
    "plt.boxplot(rate, vert=False)\n",
    "plt.title('Boxplot of Heart Rate')\n",
    "plt.xlabel('Heart Rate')\n",
    "plt.yticks([1], ['Heart Rate'])\n",
    "\n",
    "# Đánh dấu các phần tư\n",
    "plt.axvline(x=68.0, color='r', linestyle='--', label='Q1 (68bpm)')\n",
    "plt.axvline(x=70.0, color='g', linestyle='--', label='Q2 (70bpm)')\n",
    "plt.axvline(x=72.0, color='b', linestyle='--', label='Q3 (72bpm)')\n",
    "plt.axvline(x=78.0, color='orange', linestyle='--', label='Outliner(78bpm)')\n",
    "plt.legend()\n",
    "plt.show()"
   ]
  },
  {
   "cell_type": "markdown",
   "id": "a4e46bea",
   "metadata": {},
   "source": [
    "### Nhận xét:\n",
    "- **Q1 = 68:** 25% số người trong mẫu dữ liệu có nhịp tim ít hơn hoặc bằng 68 nhịp/phút\n",
    "- **Q2 = 70:** 50% số người trong mẫu dữ liệu có nhịp tim ít hơn hoặc bằng 70 nhịp/phút. Q2 chính là giá trị trung vị\n",
    "- **Q3 = 72:** 75% số người trong mẫu dữ liệu có nhịp tim ít hơn hoặc bằng 72 nhịp/phút\n",
    "- **IQR = 4:** sự phân tán giá trị nhịp tim của 50% người ở giữa trong mẫu dữ liệu. 4.0 nhịp/phút, cho thấy nhịp tim của phần lớn người trong mẫu không phân tán nhiều.\n",
    "- **Outliers**: có 479 giá trị ngoại lai (> 78 nhịp/phút)"
   ]
  },
  {
   "cell_type": "markdown",
   "id": "65759a3b",
   "metadata": {},
   "source": [
    "# Phần 2: Tính toán khoảng tin cậy cho tổng thể"
   ]
  },
  {
   "cell_type": "markdown",
   "id": "728ab81e",
   "metadata": {},
   "source": [
    "## Tính CI Mean cho Sleep Duration:\n",
    "- Xây dựng 95% khoảng tin cậy **hai phía** của giá trị trung bình thật sự của Sleep Duration trong tập dữ liệu\n",
    "- Xây dựng 95% khoảng tin cậy **trên** của giá trị trung bình thật sự của Sleep Duration trong tập dữ liệu\n",
    "- Xây dựng 95% khoảng tin cậy **dưới** của giá trị trung bình thật sự của Sleep Duration trong tập dữ liệu"
   ]
  },
  {
   "cell_type": "code",
   "execution_count": 18,
   "id": "03e9606c",
   "metadata": {},
   "outputs": [
    {
     "name": "stdout",
     "output_type": "stream",
     "text": [
      "95% khoảng tin cậy hai phía: (6.99, 7.01)\n",
      "95% khoảng tin cậy trên: 7.006\n",
      "95% khoảng tin cậy dưới: 6.989\n"
     ]
    }
   ],
   "source": [
    "# Giá trị trung bình và độ lệch chuẩn của Sleep Duration\n",
    "mean_sleep \n",
    "std_sleep\n",
    "\n",
    "# Kích thước mẫu\n",
    "n = len(sleep)\n",
    "\n",
    "# Mức ý nghĩa (alpha) cho khoảng tin cậy 95%\n",
    "alpha = 0.05\n",
    "\n",
    "# 95% khoảng tin cậy hai phía\n",
    "z = stats.norm.ppf(1 - alpha/2)\n",
    "margin_of_error = z * (std_sleep / np.sqrt(n))\n",
    "lower_bound = mean_sleep - margin_of_error\n",
    "upper_bound = mean_sleep + margin_of_error\n",
    "print(\"95% khoảng tin cậy hai phía: ({:.2f}, {:.2f})\".format(lower_bound, upper_bound))\n",
    "\n",
    "# 95% khoảng tin cậy trên\n",
    "z = stats.norm.ppf(1 - alpha)\n",
    "upper_bound = mean_sleep + z * (std_sleep / np.sqrt(n))\n",
    "print(\"95% khoảng tin cậy trên: {:.3f}\".format(upper_bound))\n",
    "\n",
    "# 95% khoảng tin cậy dưới\n",
    "z = stats.norm.ppf(1 - alpha)\n",
    "lower_bound = mean_sleep - z * (std_sleep / np.sqrt(n))\n",
    "print(\"95% khoảng tin cậy dưới: {:.3f}\".format(lower_bound))"
   ]
  },
  {
   "cell_type": "markdown",
   "id": "948e25fd",
   "metadata": {},
   "source": [
    "### Nhận xét:\n",
    "- **Khoảng tin cậy hai phía:** mức độ tin cậy 95%, giá trị trung bình thật sự của Sleep Duration nằm trong khoảng từ 6.99 giờ đến 7.01 giờ\n",
    "- **Khoảng tin cậy trên:** mức độ tin cậy 95%, giá trị trung bình thật sự của Sleep Duration không vượt quá 7.006 giờ\n",
    "- **Khoảng tin cậy dưới:** mức độ tin cậy 95%, giá trị trung bình thật sự của Sleep Duration không thấp hơn 6.989 giờ"
   ]
  },
  {
   "cell_type": "markdown",
   "id": "a873956b",
   "metadata": {},
   "source": [
    "## Tính CI Mean cho Heart Rate:\n",
    "- Xây dựng 95% khoảng tin cậy **hai phía** của giá trị trung bình thật sự của Heart Rate trong tập dữ liệu\n",
    "- Xây dựng 95% khoảng tin cậy **trên** của giá trị trung bình thật sự của Heart Rate trong tập dữ liệu\n",
    "- Xây dựng 95% khoảng tin cậy **dưới** của giá trị trung bình thật sự của Heart Rate trong tập dữ liệu"
   ]
  },
  {
   "cell_type": "code",
   "execution_count": 19,
   "id": "10ee77c0",
   "metadata": {},
   "outputs": [
    {
     "name": "stdout",
     "output_type": "stream",
     "text": [
      "95% khoảng tin cậy hai phía: (70.80, 70.92)\n",
      "95% khoảng tin cậy trên: 70.906\n",
      "95% khoảng tin cậy dưới: 70.809\n"
     ]
    }
   ],
   "source": [
    "# Giá trị trung bình và độ lệch chuẩn của Heart Rate\n",
    "mean_rate\n",
    "std_rate\n",
    "\n",
    "# Kích thước mẫu\n",
    "n = len(rate)\n",
    "\n",
    "# Mức ý nghĩa (alpha) cho khoảng tin cậy 95%\n",
    "alpha = 0.05\n",
    "\n",
    "# 95% khoảng tin cậy hai phía\n",
    "z = stats.norm.ppf(1 - alpha/2)\n",
    "margin_of_error = z * (std_rate / np.sqrt(n))\n",
    "lower_bound = mean_rate - margin_of_error\n",
    "upper_bound = mean_rate + margin_of_error\n",
    "print(\"95% khoảng tin cậy hai phía: ({:.2f}, {:.2f})\".format(lower_bound, upper_bound))\n",
    "\n",
    "# 95% khoảng tin cậy trên\n",
    "z = stats.norm.ppf(1 - alpha)\n",
    "upper_bound = mean_rate + z * (std_rate / np.sqrt(n))\n",
    "print(\"95% khoảng tin cậy trên: {:.3f}\".format(upper_bound))\n",
    "\n",
    "# 95% khoảng tin cậy dưới\n",
    "z = stats.norm.ppf(1 - alpha)\n",
    "lower_bound = mean_rate - z * (std_rate / np.sqrt(n))\n",
    "print(\"95% khoảng tin cậy dưới: {:.3f}\".format(lower_bound))"
   ]
  },
  {
   "cell_type": "markdown",
   "id": "3a70680b",
   "metadata": {},
   "source": [
    "### Nhận xét:\n",
    "- **Khoảng tin cậy hai phía:** mức độ tin cậy 95%, giá trị trung bình thật sự của nhịp tim nằm trong khoảng từ 70.80 nhịp/phút đến 70.92 nhịp/phút\n",
    "- **Khoảng tin cậy trên:** mức độ tin cậy 95%, giá trị trung bình thật sự của nhịp tim không vượt quá 70.906 nhịp/phút.\n",
    "- **Khoảng tin cậy dưới:** mức độ tin cậy 95%, giá trị trung bình thật sự của nhịp tim không thấp hơn 70.809 nhịp/phút."
   ]
  },
  {
   "cell_type": "markdown",
   "id": "2faef3c7",
   "metadata": {},
   "source": [
    "## Tính Large-Sample CI cho Sleep Duration\n",
    "- Xây dựng 95% khoảng tin cậy **hai phía** của những người có thời gian ngủ lớn hơn 7 giờ/ngày\n",
    "- Xây dựng 95% khoảng tin cậy **trên** của những người có thời gian ngủ lớn hơn 7 giờ/ngày\n",
    "- Xây dựng 95% khoảng tin cậy **dưới** của những người có thời gian ngủ lớn hơn 7 giờ/ngày"
   ]
  },
  {
   "cell_type": "code",
   "execution_count": 28,
   "id": "77682a6e",
   "metadata": {},
   "outputs": [
    {
     "name": "stdout",
     "output_type": "stream",
     "text": [
      "95% khoảng tin cậy hai phía: (0.466, 0.482)\n",
      "95% khoảng tin cậy trên: 0.481\n",
      "95% khoảng tin cậy dưới: 0.467\n"
     ]
    }
   ],
   "source": [
    "# Tính số người có thời gian ngủ lớn hơn 7 giờ/ngày\n",
    "n = len(sleep)\n",
    "k = np.sum(sleep > 7)\n",
    "p_hat = k / n\n",
    "\n",
    "# Đặt mức ý nghĩa\n",
    "alpha = 0.05\n",
    "\n",
    "# 95% khoảng tin cậy hai phía\n",
    "z = stats.norm.ppf(1 - alpha / 2)\n",
    "margin_of_error = z * np.sqrt(p_hat * (1 - p_hat) / n)\n",
    "lower_bound = p_hat - margin_of_error\n",
    "upper_bound = p_hat + margin_of_error\n",
    "print(\"95% khoảng tin cậy hai phía: ({:.3f}, {:.3f})\".format(lower_bound, upper_bound))\n",
    "\n",
    "# 95% khoảng tin cậy trên\n",
    "z = stats.norm.ppf(1 - alpha)\n",
    "upper_bound = p_hat + z * np.sqrt(p_hat * (1 - p_hat) / n)\n",
    "print(\"95% khoảng tin cậy trên: {:.3f}\".format(upper_bound))\n",
    "\n",
    "# 95% khoảng tin cậy dưới\n",
    "z = stats.norm.ppf(1- alpha)\n",
    "lower_bound = p_hat - z * np.sqrt(p_hat * (1 - p_hat) / n)\n",
    "print(\"95% khoảng tin cậy dưới: {:.3f}\".format(lower_bound))"
   ]
  },
  {
   "cell_type": "markdown",
   "id": "77950297",
   "metadata": {},
   "source": [
    "### Nhận xét:\n",
    "- **Khoảng tin cậy hai phía:** mức độ tin cậy 95%, tỷ lệ thật sự của những người có thời gian ngủ lớn hơn 7 giờ/ngày nằm trong khoảng từ 46.6% đến 48.2%\n",
    "- **Khoảng tin cậy trên:** mức độ tin cậy 95%, tỷ lệ những người có thời gian ngủ lớn hơn 7 giờ/ngày không vượt quá 48.1%\n",
    "- **Khoảng tin cậy dưới:** mức độ tin cậy 95%, tỷ lệ những người có thời gian ngủ lớn hơn 7 giờ/ngày không thấp hơn 46.7%"
   ]
  },
  {
   "cell_type": "markdown",
   "id": "c1db0714",
   "metadata": {},
   "source": [
    "## Tính Large-Sample CI cho Heart Rate\n",
    "- Xây dựng 95% khoảng tin cậy **hai phía** của những người có nhịp tim nhỏ hơn giá trị trung bình\n",
    "- Xây dựng 95% khoảng tin cậy **trên** của những người có nhịp tim nhỏ hơn giá trị trung bình\n",
    "- Xây dựng 95% khoảng tin cậy **dưới** của những người có nhịp tim nhỏ hơn giá trị trung bình"
   ]
  },
  {
   "cell_type": "code",
   "execution_count": 35,
   "id": "f33d2890",
   "metadata": {},
   "outputs": [
    {
     "name": "stdout",
     "output_type": "stream",
     "text": [
      "95% khoảng tin cậy hai phía: (0.501, 0.517)\n",
      "95% khoảng tin cậy trên: 0.516\n",
      "95% khoảng tin cậy dưới: 0.503\n"
     ]
    }
   ],
   "source": [
    "# Giá trị trung bình và độ lệch chuẩn của dữ liệu\n",
    "mean_rate \n",
    "std_rate\n",
    "\n",
    "# Lựa chọn mẫu các người có nhịp tim nhỏ hơn giá trị trung bình\n",
    "k = np.sum(rate < mean_rate)\n",
    "n = len(rate)\n",
    "p_hat = k / n\n",
    "# Tính z-score cho 95% khoảng tin cậy hai phía\n",
    "z = stats.norm.ppf(1 - alpha / 2)\n",
    "\n",
    "# Tính khoảng tin cậy hai phía\n",
    "margin_of_error = z * np.sqrt(p_hat * (1 - p_hat) / n)\n",
    "lower_bound = p_hat - margin_of_error\n",
    "upper_bound = p_hat + margin_of_error\n",
    "\n",
    "print(\"95% khoảng tin cậy hai phía: ({:.3f}, {:.3f})\".format(lower_bound, upper_bound))\n",
    "\n",
    "# Tính z-score cho 95% khoảng tin cậy trên\n",
    "z_upper = stats.norm.ppf(1 - alpha)\n",
    "upper_bound = p_hat + z_upper * np.sqrt(p_hat * (1 - p_hat) / n)\n",
    "print(\"95% khoảng tin cậy trên: {:.3f}\".format(upper_bound))\n",
    "\n",
    "# Tính z-score cho 95% khoảng tin cậy dưới\n",
    "z_lower = stats.norm.ppf(1 - alpha)\n",
    "lower_bound = p_hat - z_lower * np.sqrt(p_hat * (1 - p_hat) / n)\n",
    "print(\"95% khoảng tin cậy dưới: {:.3f}\".format(lower_bound))\n"
   ]
  },
  {
   "cell_type": "markdown",
   "id": "6952bb85",
   "metadata": {},
   "source": [
    "### Nhận xét:\n",
    "- **Khoảng tin cậy hai phía:** mức độ tin cậy 95%, tỷ lệ thật sự của những người có nhịp tim nhỏ hơn giá trị trung bình nằm trong khoảng từ 50.1% đến 51.7%\n",
    "- **Khoảng tin cậy trên:** mức độ tin cậy 95%, tỷ lệ thật sự của những người có nhịp tim nhỏ hơn giá trị trung bình không vượt quá 51.6%\n",
    "- **Khoảng tin cậy dưới:** mức độ tin cậy 95%, tỷ lệ thật sự của những người có nhịp tim nhỏ hơn giá trị trung bình không thấp hơn 50.3%"
   ]
  },
  {
   "cell_type": "markdown",
   "id": "68e2b206",
   "metadata": {},
   "source": [
    "# Kiểm định giả thuyết"
   ]
  },
  {
   "cell_type": "markdown",
   "id": "01293687",
   "metadata": {},
   "source": [
    "### Kiểm định giả thuyết trên giá trị trung bình\n",
    "**Bài toán:** Trong thời đại 4.0, con người cần phải học tập và làm việc hơn rất nhiều so với trước đây. Có một giả thuyết cho rằng thời gian ngủ của người trưởng thành ít hơn 7 giờ/đêm. Với mức ý nghĩa 5%, hãy kiểm định giả thuyết trên? <br> \n",
    "(Dựa theo số liệu được thống kê, cho biết: **mean = 6.997, std = 0.615**)\n"
   ]
  },
  {
   "cell_type": "code",
   "execution_count": 69,
   "id": "cb07109b",
   "metadata": {},
   "outputs": [
    {
     "name": "stdout",
     "output_type": "stream",
     "text": [
      "t_statistic = -0.532\n",
      "critical value = 1.645\n",
      "p_value = 0.595\n"
     ]
    }
   ],
   "source": [
    "alpha = 0.05\n",
    "n = len(sleep)\n",
    "\n",
    "# Find the critical Z-value for the given alpha\n",
    "critical_value = stats.norm.ppf(1 - alpha)\n",
    "\n",
    "t_statistic, p_value = stats.ttest_1samp(sleep, 7.0) \n",
    "print(f\"t_statistic = {t_statistic:.3f}\")\n",
    "print(f\"critical value = {critical_value:.3f}\")\n",
    "print(f\"p_value = {p_value:.3f}\")"
   ]
  },
  {
   "cell_type": "markdown",
   "id": "4f5c1a36",
   "metadata": {},
   "source": [
    "### Kết luận\n",
    "- **test-statistic < -critical-value:** Không có đủ bằng chứng để kết luận rằng số giờ ngủ trung bình của người trưởng thành ít hơn 7 giờ\n",
    "- **p_value = 0.595:** xác suất để thống kê được một người có thời gian ngủ lớn hơn hoặc bằng 7 là 59.5%"
   ]
  },
  {
   "cell_type": "markdown",
   "id": "7402a0d3",
   "metadata": {},
   "source": [
    "**Bài toán:** "
   ]
  },
  {
   "cell_type": "code",
   "execution_count": 85,
   "id": "5511aa2d",
   "metadata": {},
   "outputs": [
    {
     "name": "stdout",
     "output_type": "stream",
     "text": [
      "t_statistic = -4.827\n",
      "critical value = 1.960\n",
      "p_value = 0.0000014\n"
     ]
    }
   ],
   "source": [
    "alpha = 0.05\n",
    "n = len(rate)\n",
    "\n",
    "# Find the critical Z-value for the given alpha\n",
    "critical_value = stats.norm.ppf(1 - alpha/2)\n",
    "\n",
    "t_statistic, p_value = stats.ttest_1samp(rate, 71) \n",
    "print(f\"t_statistic = {t_statistic:.3f}\")\n",
    "print(f\"critical value = {critical_value:.3f}\")\n",
    "print(f\"p_value = {p_value:.7f}\")"
   ]
  },
  {
   "cell_type": "code",
   "execution_count": null,
   "id": "a946a882",
   "metadata": {},
   "outputs": [],
   "source": []
  }
 ],
 "metadata": {
  "kernelspec": {
   "display_name": "Python 3 (ipykernel)",
   "language": "python",
   "name": "python3"
  },
  "language_info": {
   "codemirror_mode": {
    "name": "ipython",
    "version": 3
   },
   "file_extension": ".py",
   "mimetype": "text/x-python",
   "name": "python",
   "nbconvert_exporter": "python",
   "pygments_lexer": "ipython3",
   "version": "3.11.5"
  }
 },
 "nbformat": 4,
 "nbformat_minor": 5
}
